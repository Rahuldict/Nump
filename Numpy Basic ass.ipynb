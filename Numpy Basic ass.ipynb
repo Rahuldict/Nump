{
 "cells": [
  {
   "cell_type": "code",
   "execution_count": 2,
   "id": "3d74f4bc-364f-4ca0-8d6b-ed7c83f3a98e",
   "metadata": {},
   "outputs": [],
   "source": [
    " # Consider the below code to answer further questions:\n",
    "import numpy as np\n",
    "list_ = [ '1' , '2' , '3' , '4' , '5' ]\n",
    "array_list = np.array(object = list_)\n"
   ]
  },
  {
   "cell_type": "code",
   "execution_count": 3,
   "id": "2db1b31f-8a91-419e-9a14-cc981579ce00",
   "metadata": {},
   "outputs": [],
   "source": [
    "# Q1. Is there any difference in the data type of variables list_ and array_list? If there is then write a code to print the data types of both the variables.\n"
   ]
  },
  {
   "cell_type": "code",
   "execution_count": 5,
   "id": "f280d38d-b86f-4efb-b61f-76561f5861eb",
   "metadata": {},
   "outputs": [
    {
     "name": "stdout",
     "output_type": "stream",
     "text": [
      "Data type of 'list_': <class 'list'>\n",
      "Data type of 'array_list': <class 'numpy.ndarray'>\n"
     ]
    }
   ],
   "source": [
    "import numpy as np\n",
    "\n",
    "list_ = ['1', '2', '3', '4', '5']\n",
    "array_list = np.array(object=list_)\n",
    "\n",
    "# Print data types\n",
    "print(\"Data type of 'list_':\", type(list_))\n",
    "print(\"Data type of 'array_list':\", type(array_list))\n"
   ]
  },
  {
   "cell_type": "code",
   "execution_count": 4,
   "id": "48255001-6808-4f57-a78c-429422c17b28",
   "metadata": {},
   "outputs": [],
   "source": [
    "# Q2. Write a code to print the data type of each and every element of both the variables list_ and  arra_list?"
   ]
  },
  {
   "cell_type": "code",
   "execution_count": 6,
   "id": "94cbe3f9-2b61-4dd6-a9f4-512acd450d90",
   "metadata": {},
   "outputs": [
    {
     "name": "stdout",
     "output_type": "stream",
     "text": [
      "Data types of elements in 'list_':\n",
      "<class 'str'>\n",
      "<class 'str'>\n",
      "<class 'str'>\n",
      "<class 'str'>\n",
      "<class 'str'>\n",
      "\n",
      "Data types of elements in 'array_list':\n",
      "<class 'numpy.str_'>\n",
      "<class 'numpy.str_'>\n",
      "<class 'numpy.str_'>\n",
      "<class 'numpy.str_'>\n",
      "<class 'numpy.str_'>\n"
     ]
    }
   ],
   "source": [
    "import numpy as np\n",
    "\n",
    "list_ = ['1', '2', '3', '4', '5']\n",
    "array_list = np.array(object=list_)\n",
    "\n",
    "# Print data types of elements in 'list_'\n",
    "print(\"Data types of elements in 'list_':\")\n",
    "for item in list_:\n",
    "    print(type(item))\n",
    "\n",
    "# Print data types of elements in 'array_list'\n",
    "print(\"\\nData types of elements in 'array_list':\")\n",
    "for item in array_list:\n",
    "    print(type(item))\n"
   ]
  },
  {
   "cell_type": "markdown",
   "id": "7c27406f-4ca3-4764-9f35-3b69fa8aecf8",
   "metadata": {},
   "source": [
    " # Q3. Considering the following changes in the variable, array_list:\n",
    "array_list = np.array(object = list_, dtype = int)\n",
    "Will there be any difference in the data type of the elements present in both the variables, list_ and\n",
    "arra_list? If so then print the data types of each and every element present in both the variables, list_\n",
    "and arra_list.\n",
    "Consider the below code to answer further questions:\n",
    "import numpy as np\n",
    "num_list = [ [ 1 , 2 , 3 ] , [ 4 , 5 , 6 ] ]\n",
    "num_array = np.array(object = num_list)"
   ]
  },
  {
   "cell_type": "code",
   "execution_count": 7,
   "id": "2987d96e-5f47-4e3c-bf24-f7f51eaba34f",
   "metadata": {},
   "outputs": [
    {
     "name": "stdout",
     "output_type": "stream",
     "text": [
      "Data types of elements in 'list_':\n",
      "<class 'str'>\n",
      "<class 'str'>\n",
      "<class 'str'>\n",
      "<class 'str'>\n",
      "<class 'str'>\n",
      "\n",
      "Data types of elements in 'array_list':\n",
      "<class 'numpy.int64'>\n",
      "<class 'numpy.int64'>\n",
      "<class 'numpy.int64'>\n",
      "<class 'numpy.int64'>\n",
      "<class 'numpy.int64'>\n"
     ]
    }
   ],
   "source": [
    "import numpy as np\n",
    "\n",
    "list_ = ['1', '2', '3', '4', '5']\n",
    "array_list = np.array(object=list_, dtype=int)\n",
    "\n",
    "# Print data types of elements in 'list_'\n",
    "print(\"Data types of elements in 'list_':\")\n",
    "for item in list_:\n",
    "    print(type(item))\n",
    "\n",
    "# Print data types of elements in 'array_list'\n",
    "print(\"\\nData types of elements in 'array_list':\")\n",
    "for item in array_list:\n",
    "    print(type(item))\n"
   ]
  },
  {
   "cell_type": "code",
   "execution_count": 9,
   "id": "c5d0e61b-018b-492d-a4de-e0914fce4ad3",
   "metadata": {},
   "outputs": [],
   "source": [
    "import numpy as np\n",
    "\n",
    "num_list = [[1, 2, 3], [4, 5, 6]]\n",
    "num_array = np.array(object=num_list)\n"
   ]
  },
  {
   "cell_type": "code",
   "execution_count": 11,
   "id": "a683c13d-79be-44f6-a6eb-fd290c04193c",
   "metadata": {},
   "outputs": [],
   "source": [
    "# Q4. Write a code to find the following characteristics of variable, num_array:\n",
    " #(i) shape\n",
    " #(ii) size"
   ]
  },
  {
   "cell_type": "code",
   "execution_count": 12,
   "id": "622c3696-054f-4586-99fd-59cd2add0978",
   "metadata": {},
   "outputs": [
    {
     "name": "stdout",
     "output_type": "stream",
     "text": [
      "Shape of num_array: (2, 3)\n",
      "Size of num_array: 6\n"
     ]
    }
   ],
   "source": [
    "import numpy as np\n",
    "\n",
    "num_list = [[1, 2, 3], [4, 5, 6]]\n",
    "num_array = np.array(object=num_list)\n",
    "\n",
    "# (i) Shape of num_array\n",
    "shape = num_array.shape\n",
    "\n",
    "# (ii) Size of num_array\n",
    "size = num_array.size\n",
    "\n",
    "print(\"Shape of num_array:\", shape)\n",
    "print(\"Size of num_array:\", size)\n"
   ]
  },
  {
   "cell_type": "code",
   "execution_count": 14,
   "id": "77e1c8c7-7137-40af-8c91-17fdfdcffac9",
   "metadata": {},
   "outputs": [],
   "source": [
    " # Q5. Write a code to create numpy array of 3*3 matrix containing zeros only, using a numpy array creation function.\n",
    " #     [Hint: The size of the array will be 9 and the shape will be (3,3).]"
   ]
  },
  {
   "cell_type": "code",
   "execution_count": 15,
   "id": "c60e4342-bd7f-4021-878a-ebbf7b5b96a9",
   "metadata": {},
   "outputs": [
    {
     "name": "stdout",
     "output_type": "stream",
     "text": [
      "[[0. 0. 0.]\n",
      " [0. 0. 0.]\n",
      " [0. 0. 0.]]\n"
     ]
    }
   ],
   "source": [
    "import numpy as np\n",
    "\n",
    "# Create a 3x3 matrix of zeros\n",
    "zero_matrix = np.zeros((3, 3))\n",
    "\n",
    "# Print the zero matrix\n",
    "print(zero_matrix)\n"
   ]
  },
  {
   "cell_type": "code",
   "execution_count": 16,
   "id": "292b4d36-0c75-4cd8-af95-08d87867432e",
   "metadata": {},
   "outputs": [],
   "source": [
    " # Q6. Create an identity matrix of shape (5,5) using numpy functions?\n",
    "#      [Hint: An identity matrix is a matrix containing 1 diagonally and other elements will be 0.]"
   ]
  },
  {
   "cell_type": "code",
   "execution_count": 17,
   "id": "f05ee826-ba3d-47a9-8bcd-da6dbd21bae7",
   "metadata": {},
   "outputs": [
    {
     "name": "stdout",
     "output_type": "stream",
     "text": [
      "[[1. 0. 0. 0. 0.]\n",
      " [0. 1. 0. 0. 0.]\n",
      " [0. 0. 1. 0. 0.]\n",
      " [0. 0. 0. 1. 0.]\n",
      " [0. 0. 0. 0. 1.]]\n"
     ]
    }
   ],
   "source": [
    "import numpy as np\n",
    "\n",
    "# Create a 5x5 identity matrix\n",
    "identity_matrix = np.identity(5)\n",
    "\n",
    "# Print the identity matrix\n",
    "print(identity_matrix)\n"
   ]
  },
  {
   "cell_type": "code",
   "execution_count": null,
   "id": "4228b078-271d-4375-bbd3-4936f63ba502",
   "metadata": {},
   "outputs": [],
   "source": []
  }
 ],
 "metadata": {
  "kernelspec": {
   "display_name": "Python 3 (ipykernel)",
   "language": "python",
   "name": "python3"
  },
  "language_info": {
   "codemirror_mode": {
    "name": "ipython",
    "version": 3
   },
   "file_extension": ".py",
   "mimetype": "text/x-python",
   "name": "python",
   "nbconvert_exporter": "python",
   "pygments_lexer": "ipython3",
   "version": "3.10.8"
  }
 },
 "nbformat": 4,
 "nbformat_minor": 5
}
